{
 "cells": [
  {
   "cell_type": "code",
   "execution_count": 2,
   "id": "be3702cb",
   "metadata": {},
   "outputs": [
    {
     "name": "stdout",
     "output_type": "stream",
     "text": [
      "3600\n"
     ]
    }
   ],
   "source": [
    "# 3.1 Calculate the numner of seconds in an hour\n",
    "\n",
    "print (60 * 60)"
   ]
  },
  {
   "cell_type": "code",
   "execution_count": 4,
   "id": "d32a0c79",
   "metadata": {},
   "outputs": [
    {
     "name": "stdout",
     "output_type": "stream",
     "text": [
      "3600\n"
     ]
    }
   ],
   "source": [
    "# 3.2 assign variable seconds_per_hour\n",
    "\n",
    "seconds_per_hour = (60*60)\n",
    "print (seconds_per_hour)"
   ]
  },
  {
   "cell_type": "code",
   "execution_count": 7,
   "id": "7c1911b6",
   "metadata": {},
   "outputs": [
    {
     "name": "stdout",
     "output_type": "stream",
     "text": [
      "86400\n"
     ]
    }
   ],
   "source": [
    "# 3.3 calculate number of seconds in a day using seconds_per_hour\n",
    "\n",
    "print (seconds_per_hour * 24)\n"
   ]
  },
  {
   "cell_type": "code",
   "execution_count": 8,
   "id": "d08ba529",
   "metadata": {},
   "outputs": [
    {
     "name": "stdout",
     "output_type": "stream",
     "text": [
      "86400\n"
     ]
    }
   ],
   "source": [
    "# 3.4 calculate seconds per day while creating a variable seconds_per_day\n",
    "\n",
    "seconds_per_day = (seconds_per_hour * 24)\n",
    "print (seconds_per_day)"
   ]
  },
  {
   "cell_type": "code",
   "execution_count": 9,
   "id": "c76d593b",
   "metadata": {},
   "outputs": [
    {
     "name": "stdout",
     "output_type": "stream",
     "text": [
      "24.0\n"
     ]
    }
   ],
   "source": [
    "# 3.5 divide seconds_per_day by seconds_per_hour using floating point division\n",
    "\n",
    "print (seconds_per_day / seconds_per_hour)\n"
   ]
  },
  {
   "cell_type": "code",
   "execution_count": 10,
   "id": "b99ab2b0",
   "metadata": {},
   "outputs": [
    {
     "name": "stdout",
     "output_type": "stream",
     "text": [
      "24\n"
     ]
    }
   ],
   "source": [
    "# 3.6 divide seconds_per_day by seconds_per_hour using integer division\n",
    "\n",
    "print (seconds_per_day // seconds_per_hour)"
   ]
  },
  {
   "cell_type": "code",
   "execution_count": null,
   "id": "7cfc4c13",
   "metadata": {},
   "outputs": [],
   "source": [
    "# 3.6 The number agreed with the floating-point value from the previous question"
   ]
  }
 ],
 "metadata": {
  "kernelspec": {
   "display_name": "Python 3 (ipykernel)",
   "language": "python",
   "name": "python3"
  },
  "language_info": {
   "codemirror_mode": {
    "name": "ipython",
    "version": 3
   },
   "file_extension": ".py",
   "mimetype": "text/x-python",
   "name": "python",
   "nbconvert_exporter": "python",
   "pygments_lexer": "ipython3",
   "version": "3.11.5"
  }
 },
 "nbformat": 4,
 "nbformat_minor": 5
}
